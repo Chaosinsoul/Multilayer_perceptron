{
 "cells": [
  {
   "cell_type": "markdown",
   "metadata": {},
   "source": [
    "## Model wil Multiple Layers"
   ]
  },
  {
   "cell_type": "code",
   "execution_count": 1,
   "metadata": {},
   "outputs": [
    {
     "name": "stdout",
     "output_type": "stream",
     "text": [
      "10000\n",
      "60000\n"
     ]
    }
   ],
   "source": [
    "#adding regularization\n",
    "import numpy as np\n",
    "import matplotlib.pyplot as plt\n",
    "import scipy\n",
    "\n",
    "from mnist import MNIST\n",
    "import math\n",
    "from numpy import linalg as LA\n",
    "%matplotlib inline\n",
    "mndata = MNIST('./data')\n",
    "images_training, labels_training = mndata.load_training()\n",
    "images_testing, labels_testing = mndata.load_testing()  \n",
    "print(len(images_testing))\n",
    "print(len(images_training))"
   ]
  },
  {
   "cell_type": "code",
   "execution_count": 2,
   "metadata": {
    "collapsed": true
   },
   "outputs": [],
   "source": [
    "total_training_X = np.matrix(images_training).T\n",
    "total_training_Y = np.matrix(labels_training)\n",
    "testing_X = np.matrix(images_testing).T\n",
    "testing_Y = np.matrix(labels_testing)"
   ]
  },
  {
   "cell_type": "code",
   "execution_count": 3,
   "metadata": {
    "collapsed": true
   },
   "outputs": [],
   "source": [
    "# prepossing the data \n",
    "total_training_X = total_training_X/127.5-1\n",
    "testing_X = testing_X/127.5-1\n",
    "\n"
   ]
  },
  {
   "cell_type": "code",
   "execution_count": 4,
   "metadata": {
    "collapsed": true
   },
   "outputs": [],
   "source": [
    "# shuffling the training data before splitting \n",
    "shuffle_index = list(np.random.permutation(total_training_X.shape[1]))\n",
    "total_training_X = total_training_X[:,shuffle_index]\n",
    "total_training_Y = total_training_Y[0,shuffle_index]\n"
   ]
  },
  {
   "cell_type": "code",
   "execution_count": 5,
   "metadata": {
    "collapsed": true
   },
   "outputs": [],
   "source": [
    "#for training set\n",
    "training_Y = total_training_Y[:,:50000]\n",
    "training_X = total_training_X[:,:50000] \n",
    "\n",
    "#for hold-out set \n",
    "holdout_Y = total_training_Y[:,-10000:]\n",
    "holdout_X = total_training_X[:,-10000:]\n"
   ]
  },
  {
   "cell_type": "code",
   "execution_count": 6,
   "metadata": {},
   "outputs": [
    {
     "name": "stdout",
     "output_type": "stream",
     "text": [
      "(784, 50000)\n",
      "(1, 50000)\n",
      "(784, 10000)\n",
      "(1, 10000)\n"
     ]
    }
   ],
   "source": [
    "#print(training_X.shape)\n",
    "print(training_X.shape)\n",
    "print(training_Y.shape)\n",
    "print(testing_X.shape)\n",
    "print(testing_Y.shape)\n"
   ]
  },
  {
   "cell_type": "code",
   "execution_count": 7,
   "metadata": {
    "collapsed": true
   },
   "outputs": [],
   "source": [
    "# minibatch and shuffling \n",
    "def random_mini_batches(X,Y,mini_batch_size=128):\n",
    "    m = X.shape[1]\n",
    "    mini_batches = []\n",
    "    permutation = list(np.random.permutation(m))\n",
    "    shuffled_X = X[:, permutation]\n",
    "    shuffled_Y = Y[:, permutation].reshape((1,m))\n",
    "    num_complete_minibatches = math.floor(m/mini_batch_size) \n",
    "    for k in range(0, num_complete_minibatches):\n",
    "        mini_batch_X = shuffled_X[:,k * mini_batch_size:(k + 1) * mini_batch_size]\n",
    "        mini_batch_Y = shuffled_Y[:,k * mini_batch_size:(k + 1) * mini_batch_size]\n",
    "        mini_batch = (mini_batch_X, mini_batch_Y)\n",
    "        mini_batches.append(mini_batch)\n",
    "    if m % mini_batch_size != 0:\n",
    "        end = m - mini_batch_size * math.floor(m / mini_batch_size)\n",
    "        mini_batch_X = shuffled_X[:,num_complete_minibatches * mini_batch_size:]\n",
    "        mini_batch_Y = shuffled_Y[:,num_complete_minibatches * mini_batch_size:]\n",
    "        mini_batch = (mini_batch_X, mini_batch_Y)\n",
    "        mini_batches.append(mini_batch)\n",
    "    return mini_batches\n",
    "    "
   ]
  },
  {
   "cell_type": "code",
   "execution_count": 8,
   "metadata": {},
   "outputs": [
    {
     "name": "stdout",
     "output_type": "stream",
     "text": [
      "shape of the 1st mini_batch_X: (784, 128)\n",
      "shape of the 2nd mini_batch_X: (784, 128)\n",
      "shape of the 3rd mini_batch_X: (784, 128)\n",
      "shape of the 1st mini_batch_Y: (1, 128)\n",
      "shape of the 2nd mini_batch_Y: (1, 128)\n",
      "shape of the 3rd mini_batch_Y: (1, 128)\n",
      "mini batch sanity check: [[-1. -1. -1. -1. -1. -1. -1. -1. -1. -1. -1. -1. -1. -1. -1. -1. -1. -1.\n",
      "  -1. -1. -1. -1. -1. -1. -1. -1. -1. -1. -1. -1. -1. -1. -1. -1. -1. -1.\n",
      "  -1. -1. -1. -1. -1. -1. -1. -1. -1. -1. -1. -1. -1. -1. -1. -1. -1. -1.\n",
      "  -1. -1. -1. -1. -1. -1. -1. -1. -1. -1. -1. -1. -1. -1. -1. -1. -1. -1.\n",
      "  -1. -1. -1. -1. -1. -1. -1. -1. -1. -1. -1. -1. -1. -1. -1. -1. -1. -1.\n",
      "  -1. -1. -1. -1. -1. -1. -1. -1. -1. -1. -1. -1. -1. -1. -1. -1. -1. -1.\n",
      "  -1. -1. -1. -1. -1. -1. -1. -1. -1. -1. -1. -1. -1. -1. -1. -1. -1. -1.\n",
      "  -1. -1.]]\n"
     ]
    }
   ],
   "source": [
    "#minibatch test case \n",
    "\n",
    "mini_batches = random_mini_batches(training_X,training_Y, 128)\n",
    "\n",
    "print(\"shape of the 1st mini_batch_X: \" + str(mini_batches[0][0].shape))\n",
    "print(\"shape of the 2nd mini_batch_X: \" + str(mini_batches[1][0].shape))\n",
    "print(\"shape of the 3rd mini_batch_X: \" + str(mini_batches[2][0].shape))\n",
    "print(\"shape of the 1st mini_batch_Y: \" + str(mini_batches[0][1].shape))\n",
    "print(\"shape of the 2nd mini_batch_Y: \" + str(mini_batches[1][1].shape)) \n",
    "print(\"shape of the 3rd mini_batch_Y: \" + str(mini_batches[2][1].shape))\n",
    "print(\"mini batch sanity check: \" + str(mini_batches[0][0][0][0:3]))"
   ]
  },
  {
   "cell_type": "markdown",
   "metadata": {},
   "source": [
    "5(c) initializing the optimazed hidden layers parameters"
   ]
  },
  {
   "cell_type": "code",
   "execution_count": 9,
   "metadata": {
    "collapsed": true
   },
   "outputs": [],
   "source": [
    "# initializing the deep layer weight \n",
    "def initialize_parameters_deep(layer_dims):\n",
    "    parameters = {}\n",
    "    L = len(layer_dims)            # number of layers in the network\n",
    "#     a = random.normal(0, 0.1, (10, 10))\n",
    "    for l in range(1, L):\n",
    "        parameters['w' + str(l)] = np.random.normal(0,1/math.sqrt(layer_dims[l]),(layer_dims[l], layer_dims[l - 1]))*0.01\n",
    "#         parameters['w' + str(l)] = np.random.randn(layer_dims[l], layer_dims[l - 1]) * 0.01\n",
    "        parameters['b' + str(l)] = np.random.rand(layer_dims[l], 1)*0.01\n",
    "        \n",
    "    return parameters"
   ]
  },
  {
   "cell_type": "code",
   "execution_count": 10,
   "metadata": {},
   "outputs": [
    {
     "name": "stdout",
     "output_type": "stream",
     "text": [
      "b3 = (20, 1)\n"
     ]
    }
   ],
   "source": [
    "# checking the initializing value of weight \n",
    "parameters = initialize_parameters_deep([784,64,10,20])\n",
    "#print(\"w3 = \" + str(parameters[\"w3\"].shape))\n",
    "print(\"b3 = \" + str(parameters[\"b3\"].shape))\n",
    "#print(\"w2 = \" + str(parameters[\"w2\"]))\n",
    "#print(\"b2 = \" + str(parameters[\"b2\"]))"
   ]
  },
  {
   "cell_type": "markdown",
   "metadata": {
    "collapsed": true
   },
   "source": [
    "#initializing the momentum velocity \n",
    "def initialize_velocity(parameters):\n",
    "    L =int(len(parameters)/2)\n",
    "    v = {}\n",
    "    for l in range(L):\n",
    "        v[\"dW\"+str(l+1)] = np.zeros_like(parameters[\"w\"+str(l+1)])\n",
    "        v[\"db\"+str(l+1)] = np.zeros_like(parameters[\"b\"+str(l+1)])\n",
    "        \n",
    "    return v\n"
   ]
  },
  {
   "cell_type": "markdown",
   "metadata": {},
   "source": [
    "5(c) initializing parameters with Nesterov momentum"
   ]
  },
  {
   "cell_type": "markdown",
   "metadata": {
    "collapsed": true
   },
   "source": [
    "# this is for Nvs momentum velocity \n",
    "def initialize_velocity(parameters):\n",
    "    L =int(len(parameters)/2)\n",
    "    v = {}\n",
    "    v_prev = {}\n",
    "    for l in range(L):\n",
    "        v[\"dW\"+str(l+1)] = np.zeros_like(parameters[\"w\"+str(l+1)])\n",
    "        v[\"db\"+str(l+1)] = np.zeros_like(parameters[\"b\"+str(l+1)])\n",
    "        v_prev[\"dW\"+str(l+1)] = np.zeros_like(parameters[\"w\"+str(l+1)])\n",
    "        v_prev[\"db\"+str(l+1)] = np.zeros_like(parameters[\"b\"+str(l+1)])\n",
    "    \n",
    "        \n",
    "    return v,v_prev\n",
    "\n"
   ]
  },
  {
   "cell_type": "code",
   "execution_count": 11,
   "metadata": {
    "collapsed": true
   },
   "outputs": [],
   "source": [
    "# define a sigmoid function \n",
    "def sigmoid(z):\n",
    "    s = 1/(1+np.exp(-z))\n",
    "    cache = (z)\n",
    "    return s,cache\n"
   ]
  },
  {
   "cell_type": "code",
   "execution_count": 12,
   "metadata": {
    "collapsed": true
   },
   "outputs": [],
   "source": [
    "# define a sigmoid function \n",
    "def sigmoid1(z):\n",
    "    s = 1/(1+np.exp(-z))\n",
    "    return s"
   ]
  },
  {
   "cell_type": "code",
   "execution_count": 13,
   "metadata": {
    "collapsed": true
   },
   "outputs": [],
   "source": [
    "def tanh(x):\n",
    "    cache = (x)\n",
    "    return np.tanh(x),cache\n"
   ]
  },
  {
   "cell_type": "code",
   "execution_count": 14,
   "metadata": {
    "collapsed": true
   },
   "outputs": [],
   "source": [
    "def tanh1(x):\n",
    "    cache = (x)\n",
    "    return np.tanh(x)\n",
    "\n"
   ]
  },
  {
   "cell_type": "markdown",
   "metadata": {},
   "source": [
    "5(c) implement relu "
   ]
  },
  {
   "cell_type": "code",
   "execution_count": 15,
   "metadata": {
    "collapsed": true
   },
   "outputs": [],
   "source": [
    "def relu(x):\n",
    "    cache = (x)\n",
    "    return np.multiply(x , (x > 0)),cache"
   ]
  },
  {
   "cell_type": "code",
   "execution_count": 16,
   "metadata": {
    "collapsed": true
   },
   "outputs": [],
   "source": [
    "def softmax(a):\n",
    "    a-=np.max(a,axis=0) #stabilize\n",
    "    sum_a=np.sum(np.exp(a),axis=0)\n",
    "    y_k= np.exp(a)/sum_a\n",
    "    cache = (y_k)\n",
    "    return y_k,cache"
   ]
  },
  {
   "cell_type": "code",
   "execution_count": 17,
   "metadata": {
    "collapsed": true
   },
   "outputs": [],
   "source": [
    "# linear forward method \n",
    "def linear_forward(A,W,b):\n",
    "    Z =np.dot(W,A)+b\n",
    "    cache = (A,W,b)\n",
    "    return Z,cache"
   ]
  },
  {
   "cell_type": "code",
   "execution_count": 18,
   "metadata": {
    "collapsed": true
   },
   "outputs": [],
   "source": [
    "# linear activation forward method \n",
    "def linear_activation_forward(A_prev,w,b,activation):\n",
    "    if activation ==\"sigmoid\":\n",
    "        Z, linear_cache = linear_forward(A_prev,w,b)\n",
    "        A, activation_cache = sigmoid(Z)\n",
    "    elif activation ==\"relu\":\n",
    "        Z, linear_cache = linear_forward(A_prev,w,b)\n",
    "        A, activation_cache = relu(Z)\n",
    "    elif activation ==\"tanh\":\n",
    "        Z, linear_cache = linear_forward(A_prev,w,b)\n",
    "        A, activation_cache = tanh(Z)\n",
    "    elif activation ==\"softmax\":\n",
    "        Z, linear_cache = linear_forward(A_prev,w,b)\n",
    "        A, activation_cache = softmax(Z)\n",
    "    \n",
    "    cache = (linear_cache,activation_cache)\n",
    "    return A, cache"
   ]
  },
  {
   "cell_type": "code",
   "execution_count": 19,
   "metadata": {
    "collapsed": true
   },
   "outputs": [],
   "source": [
    "# L-model forward for the purpose of doubling the hidden layer, here we assign L-1 sigmoid and output for sigmoid\n",
    "def L_model_forward(X, parameters):   \n",
    "    caches = []\n",
    "    A = X\n",
    "    L = int(len(parameters)/2)                        # number of layers in the neural network\n",
    "    # Implement [LINEAR -> sigmoid]*(L-1). Add \"cache\" to the \"caches\" list.\n",
    "    for l in range(1, L):\n",
    "        A_prev = A \n",
    "        A, cache = linear_activation_forward(A_prev, \n",
    "                                             parameters['w' + str(l)], \n",
    "                                             parameters['b' + str(l)], \n",
    "                                             activation='relu')\n",
    "        caches.append(cache)\n",
    "    \n",
    "    # Implement LINEAR -> Softmax. Add \"cache\" to the \"caches\" list.\n",
    "    AL, cache = linear_activation_forward(A, \n",
    "                                          parameters['w' + str(L)], \n",
    "                                          parameters['b' + str(L)], \n",
    "                                          activation='softmax')\n",
    "    caches.append(cache)\n",
    "             \n",
    "    return AL, caches\n"
   ]
  },
  {
   "cell_type": "code",
   "execution_count": 20,
   "metadata": {
    "collapsed": true
   },
   "outputs": [],
   "source": [
    "def build_mask(y):\n",
    "    mask = np.zeros((10,y.shape[1]))\n",
    "    mask[y,range(y.shape[1])] =1\n",
    "    return mask"
   ]
  },
  {
   "cell_type": "code",
   "execution_count": 21,
   "metadata": {
    "collapsed": true
   },
   "outputs": [],
   "source": [
    "def sigmoid_backward(dA,activation_cache):\n",
    "    z = activation_cache\n",
    "    gradient =np.multiply(sigmoid1(z),(1. - sigmoid1(z)))\n",
    "    dz = np.multiply(dA,gradient)\n",
    "    return dz"
   ]
  },
  {
   "cell_type": "code",
   "execution_count": 22,
   "metadata": {
    "collapsed": true
   },
   "outputs": [],
   "source": [
    "def relu_backward(dA,activation_cache):\n",
    "    z = activation_cache\n",
    "    gradient = 1. * (z > 0)\n",
    "    dz = np.multiply(dA,gradient)\n",
    "    return dz "
   ]
  },
  {
   "cell_type": "code",
   "execution_count": 23,
   "metadata": {
    "collapsed": true
   },
   "outputs": [],
   "source": [
    "#tanh\n",
    "def tanh_backward(dA,activation_cache):\n",
    "    z = activation_cache\n",
    "    gradient = 1-np.multiply(tanh1(z),tanh1(z))\n",
    "    dz = np.multiply(dA,gradient)\n",
    "    return dz \n",
    "\n"
   ]
  },
  {
   "cell_type": "code",
   "execution_count": 24,
   "metadata": {
    "collapsed": true
   },
   "outputs": [],
   "source": [
    "def softmax_backward(Y,activation_cache):\n",
    "    Y_k  = activation_cache\n",
    "    mask = build_mask(Y)\n",
    "    dz = Y_k - mask\n",
    "    return dz"
   ]
  },
  {
   "cell_type": "code",
   "execution_count": 25,
   "metadata": {
    "collapsed": true
   },
   "outputs": [],
   "source": [
    "# Computing the cost; here we use softmax! and crossentropy to compute the cost\n",
    "def compute_cost(AL,y):\n",
    "   # mask = build_mask(y)\n",
    "    cost = -np.sum(np.log(AL[y,range(y.shape[1])]))/y.shape[1]/10\n",
    "   # cost = np.squeeze(cost)\n",
    "    return cost\n"
   ]
  },
  {
   "cell_type": "code",
   "execution_count": 26,
   "metadata": {
    "collapsed": true
   },
   "outputs": [],
   "source": [
    "# calculating the prediction accuracy\n",
    "def predict(parameters, X,Y):\n",
    "    y_k,caches = L_model_forward(X, parameters)\n",
    "    y_pred = y_k.argmax(axis=0)\n",
    "    count =0\n",
    "    for i in range(X.shape[1]):\n",
    "        if y_pred[0,i] == Y[0,i]:\n",
    "            count = count+1\n",
    "    acc = count/X.shape[1]\n",
    "    \n",
    "  # correct = [(m==n) for (m,n) in zip(y_pred,y)]\n",
    "  # acc = sum(correct) * 1.0 / len(correct)\n",
    "    return acc"
   ]
  },
  {
   "cell_type": "code",
   "execution_count": 27,
   "metadata": {
    "collapsed": true
   },
   "outputs": [],
   "source": [
    "# implementing backpropagation : linear backward\n",
    "def linear_backward(dz,cache):\n",
    "    A_prev,w,b = cache\n",
    "    m = A_prev.shape[1]\n",
    "    dw = np.dot(dz,cache[0].T)/m\n",
    "    db = np.sum(dz,axis=1)/m\n",
    "    dA_prev = np.dot(cache[1].T,dz)\n",
    "    return dA_prev, dw, db"
   ]
  },
  {
   "cell_type": "code",
   "execution_count": 28,
   "metadata": {
    "collapsed": true
   },
   "outputs": [],
   "source": [
    "# implementing backpropagation : linear_activation backward containing linear backward\n",
    "def linear_activation_backward(dA,cache,activation):  #Y is for updating the output value \n",
    "    linear_cache, activation_cache = cache\n",
    "    if activation ==\"sigmoid\":\n",
    "        dz = sigmoid_backward(dA,activation_cache)\n",
    "    elif activation ==\"relu\":\n",
    "        dz = relu_backward(dA,activation_cache)\n",
    "    elif activation ==\"tanh\":\n",
    "        dz = tanh_backward(dA,activation_cache)\n",
    "    dA_prev, dw , db = linear_backward(dz,linear_cache)\n",
    "    return dA_prev,dw,db"
   ]
  },
  {
   "cell_type": "code",
   "execution_count": 29,
   "metadata": {
    "collapsed": true
   },
   "outputs": [],
   "source": [
    "def softmax_output_backward(Y,cache):\n",
    "    linear_cache, activation_cache = cache\n",
    "    dz = softmax_backward(Y,activation_cache)\n",
    "    dA_prev, dw , db = linear_backward(dz,linear_cache)\n",
    "    return dA_prev,dw,db"
   ]
  },
  {
   "cell_type": "code",
   "execution_count": 30,
   "metadata": {
    "collapsed": true
   },
   "outputs": [],
   "source": [
    "# GRADED FUNCTION: L_model_backward\n",
    "def L_model_backward(AL, Y, caches):\n",
    "    grads = {}\n",
    "    L = len(caches) # the number of layers\n",
    "    m = AL.shape[1]\n",
    "    \n",
    "    # Lth layer (Softmax-> LINEAR) gradients. Inputs: \"AL, Y, caches\". Outputs: \"grads[\"dAL\"], grads[\"dWL\"], grads[\"dbL\"]\n",
    "    ### START CODE HERE ### (approx. 2 lines)\n",
    "    current_cache = caches[-1]\n",
    "    grads[\"dA\" + str(L)], grads[\"dW\" + str(L)], grads[\"db\" + str(L)] = softmax_output_backward(Y,current_cache) \n",
    "    dA = grads[\"dA\" + str(L)]\n",
    "    \n",
    "    for l in reversed(range(L-1)):        \n",
    "        # Inputs: \"grads[\"dA\" + str(l + 2)], caches\". Outputs: \"grads[\"dA\" + str(l + 1)] , grads[\"dW\" + str(l + 1)] , grads[\"db\" + str(l + 1)] \n",
    "        current_cache = caches[l]\n",
    "        dA_prev_temp, dW_temp, db_temp = linear_activation_backward(dA,current_cache,activation=\"relu\")\n",
    "        grads[\"dA\" + str(l + 1)] = dA_prev_temp\n",
    "        grads[\"dW\" + str(l + 1)] = dW_temp\n",
    "        grads[\"db\" + str(l + 1)] = db_temp\n",
    "    return grads"
   ]
  },
  {
   "cell_type": "code",
   "execution_count": 31,
   "metadata": {
    "collapsed": true
   },
   "outputs": [],
   "source": [
    "def update_parameters(parameters, grads, learning_rate): \n",
    "    L = int(len(parameters)/2)  # number of layers in the neural network\n",
    "    for l in range(L):\n",
    "        parameters[\"w\" + str(l + 1)] = parameters[\"w\" + str(l + 1)] - learning_rate * grads[\"dW\" + str(l + 1)]\n",
    "        parameters[\"b\" + str(l + 1)] = parameters[\"b\" + str(l + 1)] - learning_rate * grads[\"db\" + str(l + 1)]\n",
    "        \n",
    "    return parameters"
   ]
  },
  {
   "cell_type": "markdown",
   "metadata": {
    "collapsed": true
   },
   "source": [
    "# update parameters with momentum\n",
    "def update_parameters_with_momentum(parameters,grads,alpha,learning_rate,v):\n",
    "    L = int(len(parameters)/2)\n",
    "    for l in range(L):\n",
    "        v[\"dW\"+str(l+1)] = -alpha*v[\"dW\"+str(l+1)]+learning_rate * grads[\"dW\" + str(l + 1)]\n",
    "        v[\"db\"+str(l+1)] = -alpha*v[\"db\"+str(l+1)]+learning_rate * grads[\"db\" + str(l + 1)]\n",
    "        #updating the parameters\n",
    "        parameters[\"w\"+str(l+1)] = parameters[\"w\"+str(l+1)]- v[\"dW\"+str(l+1)]\n",
    "        parameters[\"b\"+str(l+1)] = parameters[\"b\"+str(l+1)]- v[\"db\"+str(l+1)]\n",
    "    return parameters,v"
   ]
  },
  {
   "cell_type": "markdown",
   "metadata": {
    "collapsed": true
   },
   "source": [
    "# Update parameters with Nesterov momentum   Notation from cse231n\n",
    "def update_parameters_with_Nesterov_momentum(parameters,grads,alpha,learning_rate,v,v_prev):\n",
    "    L = int(len(parameters)/2)\n",
    "    for l in range(L):\n",
    "        v_prev[\"dW\"+str(l+1)] = v[\"dW\"+str(l+1)]\n",
    "        v_prev[\"db\"+str(l+1)] = v[\"db\"+str(l+1)]\n",
    "        v[\"dW\"+str(l+1)] = alpha*v[\"dW\"+str(l+1)]-learning_rate * grads[\"dW\" + str(l + 1)]\n",
    "        v[\"db\"+str(l+1)] = alpha*v[\"db\"+str(l+1)]-learning_rate * grads[\"db\" + str(l + 1)]\n",
    "        #updating the parameters\n",
    "        parameters[\"w\"+str(l+1)] += -alpha*v_prev[\"dW\"+str(l+1)] +(1+alpha)*v[\"dW\"+str(l+1)]\n",
    "        parameters[\"b\"+str(l+1)] += -alpha*v_prev[\"db\"+str(l+1)] +(1+alpha)*v[\"db\"+str(l+1)]\n",
    "        \n",
    "    return parameters,v\n",
    "\n",
    "\n",
    "    \n",
    "#     v_prev = v # back this up\n",
    "#     v = mu * v - learning_rate * dx # velocity update stays the same\n",
    "#     x += -mu * v_prev + (1 + mu) * v # position update changes form"
   ]
  },
  {
   "cell_type": "code",
   "execution_count": 34,
   "metadata": {
    "collapsed": true
   },
   "outputs": [],
   "source": [
    "#minibatch \n",
    "def training_minibatch(X_training,Y_training,X_testing,Y_testing,num_epochs,learning_rate_0):\n",
    "    accuracies_training = []\n",
    "    accuracies_testing = []\n",
    "    parameters = initialize_parameters_deep([784,10])\n",
    "    for epoch in range(num_epochs):\n",
    "        #num_minibatches = int(m/minibatch_size)\n",
    "        mini_batches = random_mini_batches(X_training,Y_training, 4)\n",
    "        for j in range(len(mini_batches)):\n",
    "            AL_training_minibatch,caches_training_minibatch= L_model_forward(mini_batches[j][0],parameters)   \n",
    "            #  \n",
    "            if j == len(mini_batches)-1:\n",
    "                AL_training,caches_training= L_model_forward(X_training,parameters) \n",
    "                #cost_training = compute_cost(AL_training,mini_batches[j][1])# costing for the entire training set ?\n",
    "                accuracy_training = predict(parameters, X_training,Y_training)\n",
    "                accuracy_testing = predict(parameters, X_testing,Y_testing)\n",
    "                print(accuracy_testing)\n",
    "                accuracies_training.append(1-accuracy_training)\n",
    "                accuracies_testing.append(1-accuracy_testing) \n",
    "            #backward and updating\n",
    "            grads = L_model_backward(AL_training_minibatch, mini_batches[j][1], caches_training_minibatch)   \n",
    "            parameters = update_parameters(parameters, grads, learning_rate_0)\n",
    "        # early stopping        \n",
    "        print(epoch)\n",
    "        \n",
    "    return accuracies_training,accuracies_testing\n",
    "\n",
    "\n"
   ]
  },
  {
   "cell_type": "markdown",
   "metadata": {},
   "source": [
    "5(a and b) Doubling the number of units in hidden layer and add one more layer  "
   ]
  },
  {
   "cell_type": "code",
   "execution_count": 35,
   "metadata": {},
   "outputs": [
    {
     "name": "stdout",
     "output_type": "stream",
     "text": [
      "0.9134\n",
      "0\n",
      "0.9085\n",
      "1\n",
      "0.9153\n",
      "2\n",
      "0.8864\n",
      "3\n",
      "0.9152\n",
      "4\n",
      "0.912\n",
      "5\n",
      "0.8986\n",
      "6\n",
      "0.9042\n",
      "7\n",
      "0.9045\n",
      "8\n",
      "0.8834\n",
      "9\n",
      "0.9056\n",
      "10\n",
      "0.9193\n",
      "11\n",
      "0.9155\n",
      "12\n",
      "0.917\n",
      "13\n",
      "0.8933\n",
      "14\n",
      "0.8986\n",
      "15\n",
      "0.9108\n",
      "16\n",
      "0.9121\n",
      "17\n",
      "0.9101\n",
      "18\n",
      "0.9051\n",
      "19\n",
      "0.9128\n",
      "20\n",
      "0.9167\n",
      "21\n",
      "0.9148\n",
      "22\n",
      "0.9093\n",
      "23\n",
      "0.8992\n",
      "24\n",
      "0.9065\n",
      "25\n",
      "0.9159\n",
      "26\n",
      "0.8982\n",
      "27\n",
      "0.9087\n",
      "28\n",
      "0.9176\n",
      "29\n",
      "0.9155\n",
      "30\n",
      "0.883\n",
      "31\n",
      "0.9115\n",
      "32\n",
      "0.9134\n",
      "33\n",
      "0.9114\n",
      "34\n",
      "0.9087\n",
      "35\n",
      "0.9081\n",
      "36\n",
      "0.8977\n",
      "37\n",
      "0.9159\n",
      "38\n",
      "0.9163\n",
      "39\n",
      "0.9006\n",
      "40\n",
      "0.9175\n",
      "41\n",
      "0.9129\n",
      "42\n",
      "0.9154\n",
      "43\n",
      "0.9047\n",
      "44\n",
      "0.9133\n",
      "45\n",
      "0.9181\n",
      "46\n",
      "0.9155\n",
      "47\n",
      "0.9163\n",
      "48\n",
      "0.9169\n",
      "49\n"
     ]
    }
   ],
   "source": [
    "\n",
    "accuracies_training,accuracies_testing=training_minibatch(training_X,training_Y,testing_X,testing_Y,50,0.01)"
   ]
  },
  {
   "cell_type": "code",
   "execution_count": 38,
   "metadata": {
    "collapsed": true
   },
   "outputs": [],
   "source": [
    "accuracies_training[0]=1\n",
    "accuracies_testing[0]=1"
   ]
  },
  {
   "cell_type": "code",
   "execution_count": 39,
   "metadata": {},
   "outputs": [
    {
     "name": "stdout",
     "output_type": "stream",
     "text": [
      "0.07206000000000001 0.08189999999999997\n"
     ]
    }
   ],
   "source": [
    "print(accuracies_training[-4],accuracies_testing[-4])"
   ]
  },
  {
   "cell_type": "code",
   "execution_count": 40,
   "metadata": {},
   "outputs": [
    {
     "data": {
      "image/png": "[encoded data removed]",
      "text/plain": [
       "<matplotlib.figure.Figure at 0x10f593550>"
      ]
     },
     "metadata": {},
     "output_type": "display_data"
    }
   ],
   "source": [
    "## Plot of the accuracy over training for the training, validation and test sets\n",
    "plt.figure(figsize=(20,10))\n",
    "plt.plot(range(len(accuracies_training)), accuracies_training, label='Train',marker='o')\n",
    "plt.plot(range(len(accuracies_testing)), accuracies_testing, label='Test',marker='o')\n",
    "plt.xlabel('epoch')\n",
    "plt.ylabel('Accuracy')\n",
    "plt.legend(shadow=True, prop={'size': 12})\n",
    "plt.title(\"Accuracy\")\n",
    "plt.show()"
   ]
  },
  {
   "cell_type": "markdown",
   "metadata": {},
   "source": []
  },
  {
   "cell_type": "code",
   "execution_count": null,
   "metadata": {
    "collapsed": true
   },
   "outputs": [],
   "source": []
  },
  {
   "cell_type": "code",
   "execution_count": null,
   "metadata": {
    "collapsed": true
   },
   "outputs": [],
   "source": []
  }
 ],
 "metadata": {
  "kernelspec": {
   "display_name": "Python 3",
   "language": "python",
   "name": "python3"
  },
  "language_info": {
   "codemirror_mode": {
    "name": "ipython",
    "version": 3
   },
   "file_extension": ".py",
   "mimetype": "text/x-python",
   "name": "python",
   "nbconvert_exporter": "python",
   "pygments_lexer": "ipython3",
   "version": "3.5.4"
  }
 },
 "nbformat": 4,
 "nbformat_minor": 2
}
